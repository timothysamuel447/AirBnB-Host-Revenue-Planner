{
  "nbformat": 4,
  "nbformat_minor": 0,
  "metadata": {
    "colab": {
      "provenance": []
    },
    "kernelspec": {
      "name": "python3",
      "display_name": "Python 3"
    },
    "language_info": {
      "name": "python"
    }
  },
  "cells": [
    {
      "cell_type": "code",
      "execution_count": null,
      "metadata": {
        "colab": {
          "base_uri": "https://localhost:8080/"
        },
        "id": "HpJMRm_JGsA7",
        "outputId": "7c9b11c3-4aa0-4d9a-8faf-64c1aa8fdecb"
      },
      "outputs": [
        {
          "output_type": "stream",
          "name": "stdout",
          "text": [
            "Gradient Boosting Model - MSE: 2506562.928897481, MAE: 1205.3950334631488, R2 Score: 0.5571660206186316\n"
          ]
        }
      ],
      "source": [
        "from sklearn.ensemble import GradientBoostingRegressor\n",
        "from sklearn.metrics import mean_squared_error, mean_absolute_error, r2_score\n",
        "from sklearn.model_selection import train_test_split\n",
        "from sklearn.preprocessing import StandardScaler\n",
        "import pandas as pd\n",
        "\n",
        "# Load your dataset\n",
        "df = pd.read_csv('Dallas_Cleaned_Lagged_Data_v2.csv')\n",
        "\n",
        "# Preprocess your data (assuming the dataset is already cleaned and encoded)\n",
        "X = df.drop('revenue', axis=1)  # Replace 'revenue' with your actual revenue column name\n",
        "y = df['revenue']\n",
        "\n",
        "# Scaling the features\n",
        "#caler = StandardScaler()\n",
        "#X_scaled = scaler.fit_transform(X)\n",
        "\n",
        "# Splitting the dataset into training and testing sets\n",
        "X_train, X_test, y_train, y_test = train_test_split(X, y, test_size=0.3, random_state=42)\n",
        "\n",
        "# Initialize the Gradient Boosting Regressor\n",
        "gb_model = GradientBoostingRegressor(random_state=42)\n",
        "\n",
        "# Train the Gradient Boosting model\n",
        "gb_model.fit(X_train, y_train)\n",
        "\n",
        "# Making predictions with the Gradient Boosting model\n",
        "y_pred_gb = gb_model.predict(X_test)\n",
        "\n",
        "# Calculate metrics for Gradient Boosting model\n",
        "mse_gb = mean_squared_error(y_test, y_pred_gb)\n",
        "mae_gb = mean_absolute_error(y_test, y_pred_gb)\n",
        "r2_gb = r2_score(y_test, y_pred_gb)\n",
        "\n",
        "print(f'Gradient Boosting Model - MSE: {mse_gb}, MAE: {mae_gb}, R2 Score: {r2_gb}')\n"
      ]
    },
    {
      "cell_type": "code",
      "source": [
        "# Extracting feature importances\n",
        "feature_importances_gb = pd.Series(gb_model.feature_importances_, index=X.columns)\n",
        "\n",
        "# Sorting the feature importances in descending order\n",
        "sorted_importances_gb = feature_importances_gb.sort_values(ascending=False)\n",
        "\n",
        "# Displaying the top 10 important features\n",
        "print(sorted_importances_gb.head(20))"
      ],
      "metadata": {
        "colab": {
          "base_uri": "https://localhost:8080/"
        },
        "id": "sSqrqrHhJr3t",
        "outputId": "d7e1a30a-0683-499f-bd71-970ca8d98251"
      },
      "execution_count": null,
      "outputs": [
        {
          "output_type": "stream",
          "name": "stdout",
          "text": [
            "booked_days_avePrice_lagged             0.286442\n",
            "Max Guests_lagged                       0.145935\n",
            "available_days_lagged                   0.130854\n",
            "available_days_aveListedPrice_lagged    0.099148\n",
            "Nightly Rate_lagged                     0.069804\n",
            "booked_days_lagged                      0.031935\n",
            "occupancy_rate_lagged                   0.023953\n",
            "Bedrooms                                0.017610\n",
            "Number of Photos_lagged                 0.017274\n",
            "numReserv_pastYear                      0.015799\n",
            "num_5_star_Rev_pastYear                 0.015491\n",
            "booked_days_period_city_lagged          0.015014\n",
            "Listing Type_Entire home/apt            0.013348\n",
            "Bathrooms                               0.012694\n",
            "tract_price_variance_lagged             0.010964\n",
            "numReservedDays_pastYear                0.010425\n",
            "superhost_period_all_19.0               0.008760\n",
            "superhost_period_all_17.0               0.008410\n",
            "revenue_period_city_lagged              0.008129\n",
            "tract_revenue_share_lagged              0.007376\n",
            "dtype: float64\n"
          ]
        }
      ]
    },
    {
      "cell_type": "code",
      "source": [],
      "metadata": {
        "id": "8i29xwp2v8iQ"
      },
      "execution_count": null,
      "outputs": []
    },
    {
      "cell_type": "code",
      "source": [],
      "metadata": {
        "id": "JRsx1pL5v8k1"
      },
      "execution_count": null,
      "outputs": []
    },
    {
      "cell_type": "code",
      "source": [
        "from sklearn.ensemble import GradientBoostingRegressor\n",
        "from sklearn.metrics import mean_squared_error, mean_absolute_error, r2_score\n",
        "from sklearn.model_selection import train_test_split\n",
        "from sklearn.preprocessing import StandardScaler\n",
        "import pandas as pd\n",
        "\n",
        "# Load your dataset\n",
        "df = pd.read_csv('Dallas_data_filtered_final 2.csv')\n",
        "\n",
        "# Preprocess your data (assuming the dataset is already cleaned and encoded)\n",
        "X = df.drop('revenue', axis=1)  # Replace 'revenue' with your actual revenue column name\n",
        "y = df['revenue']\n",
        "\n",
        "# Scaling the features\n",
        "#caler = StandardScaler()\n",
        "#X_scaled = scaler.fit_transform(X)\n",
        "\n",
        "# Splitting the dataset into training and testing sets\n",
        "X_train, X_test, y_train, y_test = train_test_split(X, y, test_size=0.3, random_state=42)\n",
        "\n",
        "# Initialize the Gradient Boosting Regressor\n",
        "gb_model = GradientBoostingRegressor(random_state=42)\n",
        "\n",
        "# Train the Gradient Boosting model\n",
        "gb_model.fit(X_train, y_train)\n",
        "\n",
        "# Making predictions with the Gradient Boosting model\n",
        "y_pred_gb = gb_model.predict(X_test)\n",
        "\n",
        "# Calculate metrics for Gradient Boosting model\n",
        "mse_gb = mean_squared_error(y_test, y_pred_gb)\n",
        "mae_gb = mean_absolute_error(y_test, y_pred_gb)\n",
        "r2_gb = r2_score(y_test, y_pred_gb)\n",
        "\n",
        "print(f'Gradient Boosting Model - MSE: {mse_gb}, MAE: {mae_gb}, R2 Score: {r2_gb}')\n"
      ],
      "metadata": {
        "colab": {
          "base_uri": "https://localhost:8080/"
        },
        "id": "ctoQzQLsi72B",
        "outputId": "6a0fa0ab-6f8a-419d-ec79-a5b05985c8ed"
      },
      "execution_count": null,
      "outputs": [
        {
          "output_type": "stream",
          "name": "stdout",
          "text": [
            "Gradient Boosting Model - MSE: 108666.94952936102, MAE: 158.29199505978784, R2 Score: 0.9810525064758392\n"
          ]
        }
      ]
    },
    {
      "cell_type": "code",
      "source": [],
      "metadata": {
        "id": "JQSNRACCi74V"
      },
      "execution_count": null,
      "outputs": []
    },
    {
      "cell_type": "code",
      "source": [
        "import pandas as pd\n",
        "import matplotlib.pyplot as plt\n",
        "import seaborn as sns\n",
        "\n",
        "# Load the dataset\n",
        "df = pd.read_csv('input_data_model_without_lag.csv')\n",
        "\n",
        "# Extracting the 'revenue' column\n",
        "revenue = df['revenue']\n",
        "\n",
        "# Summary statistics of the 'revenue' column\n",
        "summary_stats_revenue = revenue.describe()\n",
        "\n",
        "# Visualizations for the 'revenue' column\n",
        "sns.set(style=\"whitegrid\")\n",
        "plt.figure(figsize=(12, 6))\n",
        "\n",
        "# Histogram\n",
        "plt.subplot(1, 2, 1)\n",
        "sns.histplot(revenue, kde=True)\n",
        "plt.title('Distribution of Revenue')\n",
        "\n",
        "# Boxplot\n",
        "plt.subplot(1, 2, 2)\n",
        "sns.boxplot(y=revenue)\n",
        "plt.title('Boxplot of Revenue')\n",
        "\n",
        "plt.tight_layout()\n",
        "plt.show()\n",
        "\n",
        "# Print summary statistics\n",
        "print(summary_stats_revenue)\n"
      ],
      "metadata": {
        "colab": {
          "base_uri": "https://localhost:8080/",
          "height": 679
        },
        "id": "2dswfJk6i767",
        "outputId": "432175c4-1e81-408b-e968-55ba1bc4abb3"
      },
      "execution_count": null,
      "outputs": [
        {
          "output_type": "display_data",
          "data": {
            "text/plain": [
              "<Figure size 1200x600 with 2 Axes>"
            ],
            "image/png": "[encoded data removed]"
          },
          "metadata": {}
        },
        {
          "output_type": "stream",
          "name": "stdout",
          "text": [
            "count    29541.000000\n",
            "mean      2762.328222\n",
            "std       2387.867402\n",
            "min         13.000000\n",
            "25%        880.000000\n",
            "50%       2070.000000\n",
            "75%       3958.000000\n",
            "max       8575.000000\n",
            "Name: revenue, dtype: float64\n"
          ]
        }
      ]
    },
    {
      "cell_type": "code",
      "source": [],
      "metadata": {
        "id": "XSIOrtLHv-cG"
      },
      "execution_count": null,
      "outputs": []
    },
    {
      "cell_type": "code",
      "source": [
        "from scipy.optimize import linprog\n",
        "\n",
        "# Coefficients of the regression equation\n",
        "coefficients = [-1321.6, 270.6, 113.0, 385.0, -482.4, 140.3, 3315.1, -0.0350,\n",
        "                1.9543, 7.8075, -3.1037, 17.2615, 13.7430, 0.5187,\n",
        "                -0.0729, 228.6, -464.5, 0.000197, 0.000339]\n",
        "\n",
        "features = [\n",
        "    \"Bathrooms\", \"Bedrooms\", \"Listing_Type_Entire_home_apt\", \"Listing_Type_Shared_room\",\n",
        "    \"Max_Guests_lagged\", \"Property_Type_Treehouse\", \"booked_days_period_city_lagged\",\n",
        "    \"prev_Nightly_Rate\", \"prev_available_days\", \"prev_available_days_aveListedPri\",\n",
        "    \"prev_booked_days\", \"prev_booked_days_avePrice\", \"prev_numReserv_pastYear\",\n",
        "    \"prev_numReservedDays_pastYear\", \"quarter_Q3\", \"quarter_Q4\",\n",
        "    \"revenue_period_city_lagged\", \"revenue_period_tract\"\n",
        "]\n",
        "\n",
        "\n",
        "# Constraints:\n",
        "# Assuming upper and lower bounds for some variables based on typical property listings\n",
        "# For binary variables, the bounds are 0 and 1\n",
        "bounds = [(1, 10),    # Bathrooms\n",
        "          (1, 10),    # Bedrooms\n",
        "          (0, 1),     # Listing_Type_Entire_home_apt\n",
        "          (0, 1),     # Listing_Type_Shared_room\n",
        "          (1, 20),    # Max_Guests_lagged\n",
        "          (0, 1),     # Property_Type_Treehouse\n",
        "          (0, 365),   # booked_days_period_city_lagged\n",
        "          (10, 500),  # prev_Nightly_Rate\n",
        "          (0, 365),   # prev_available_days\n",
        "          (0, 10000), # prev_available_days_aveListedPri\n",
        "          (0, 365),   # prev_booked_days\n",
        "          (10, 500),  # prev_booked_days_avePrice\n",
        "          (0, 100),   # prev_numReserv_pastYear\n",
        "          (0, 365),   # prev_numReservedDays_pastYear\n",
        "          (0, 1),     # quarter_Q3\n",
        "          (0, 1),     # quarter_Q4\n",
        "          (0, 1000000), # revenue_period_city_lagged\n",
        "          (0, 1000000), # revenue_period_tract\n",
        "          (0, 1)]      # An additional pair for the constant term in the equation\n",
        "\n",
        "# Since scipy.optimize minimizes, and we want to maximize, we multiply coefficients by -1\n",
        "neg_coefficients = [-c for c in coefficients]\n",
        "\n",
        "# Perform the linear programming optimization\n",
        "res = linprog(c=neg_coefficients, bounds=bounds, method='highs')\n",
        "\n",
        "# Extract the optimized values\n",
        "optimized_values = res.x\n",
        "optimized_feature_values = dict(zip(features, optimized_values))\n",
        "\n",
        "optimized_values\n",
        "optimized_feature_values"
      ],
      "metadata": {
        "colab": {
          "base_uri": "https://localhost:8080/"
        },
        "id": "6RXKJy82v-eL",
        "outputId": "9881aaf3-ca5d-4f95-c44f-0f666b1916b1"
      },
      "execution_count": null,
      "outputs": [
        {
          "output_type": "execute_result",
          "data": {
            "text/plain": [
              "{'Bathrooms': 1.0,\n",
              " 'Bedrooms': 10.0,\n",
              " 'Listing_Type_Entire_home_apt': 1.0,\n",
              " 'Listing_Type_Shared_room': 1.0,\n",
              " 'Max_Guests_lagged': 1.0,\n",
              " 'Property_Type_Treehouse': 1.0,\n",
              " 'booked_days_period_city_lagged': 365.0,\n",
              " 'prev_Nightly_Rate': 10.0,\n",
              " 'prev_available_days': 365.0,\n",
              " 'prev_available_days_aveListedPri': 10000.0,\n",
              " 'prev_booked_days': 0.0,\n",
              " 'prev_booked_days_avePrice': 500.0,\n",
              " 'prev_numReserv_pastYear': 100.0,\n",
              " 'prev_numReservedDays_pastYear': 365.0,\n",
              " 'quarter_Q3': 0.0,\n",
              " 'quarter_Q4': 1.0,\n",
              " 'revenue_period_city_lagged': 0.0,\n",
              " 'revenue_period_tract': 1000000.0}"
            ]
          },
          "metadata": {},
          "execution_count": 4
        }
      ]
    },
    {
      "cell_type": "code",
      "source": [],
      "metadata": {
        "id": "7mDcI81Wv-gR"
      },
      "execution_count": null,
      "outputs": []
    },
    {
      "cell_type": "code",
      "source": [],
      "metadata": {
        "id": "bo2pwMAYv-iW"
      },
      "execution_count": null,
      "outputs": []
    },
    {
      "cell_type": "code",
      "source": [
        "# Preprocess your data (assuming the dataset is already cleaned and encoded)\n",
        "X = df.drop('booked_days_avePrice', axis=1)  # Replace 'revenue' with your actual revenue column name\n",
        "y = df['booked_days_avePrice']\n",
        "\n",
        "# Scaling the features\n",
        "scaler = StandardScaler()\n",
        "X_scaled = scaler.fit_transform(X)\n",
        "\n",
        "# Splitting the dataset into training and testing sets\n",
        "X_train, X_test, y_train, y_test = train_test_split(X_scaled, y, test_size=0.3, random_state=42)\n",
        "\n",
        "# Initialize the Gradient Boosting Regressor\n",
        "gb_model = GradientBoostingRegressor(random_state=42)\n",
        "\n",
        "# Train the Gradient Boosting model\n",
        "gb_model.fit(X_train, y_train)\n",
        "\n",
        "# Making predictions with the Gradient Boosting model\n",
        "y_pred_gb = gb_model.predict(X_test)\n",
        "\n",
        "# Calculate metrics for Gradient Boosting model\n",
        "mse_gb = mean_squared_error(y_test, y_pred_gb)\n",
        "mae_gb = mean_absolute_error(y_test, y_pred_gb)\n",
        "r2_gb = r2_score(y_test, y_pred_gb)\n",
        "\n",
        "print(f'Gradient Boosting Model - MSE: {mse_gb}, MAE: {mae_gb}, R2 Score: {r2_gb}')\n"
      ],
      "metadata": {
        "colab": {
          "base_uri": "https://localhost:8080/"
        },
        "id": "JYZLBu-mLuzT",
        "outputId": "b875a0dc-6367-435a-d14d-a5eee9e3324c"
      },
      "execution_count": null,
      "outputs": [
        {
          "output_type": "stream",
          "name": "stdout",
          "text": [
            "Gradient Boosting Model - MSE: 218.76245133426363, MAE: 8.54786743301061, R2 Score: 0.8384491514002207\n"
          ]
        }
      ]
    },
    {
      "cell_type": "code",
      "source": [
        "# Extracting feature importances\n",
        "feature_importances_gb = pd.Series(gb_model.feature_importances_, index=X.columns)\n",
        "\n",
        "# Sorting the feature importances in descending order\n",
        "sorted_importances_gb = feature_importances_gb.sort_values(ascending=False)\n",
        "\n",
        "# Displaying the top 10 important features\n",
        "print(sorted_importances_gb.head(20))"
      ],
      "metadata": {
        "colab": {
          "base_uri": "https://localhost:8080/"
        },
        "id": "97GkDfTWQhz2",
        "outputId": "2a1f9809-3df1-4633-a127-8219b9d211e0"
      },
      "execution_count": null,
      "outputs": [
        {
          "output_type": "stream",
          "name": "stdout",
          "text": [
            "available_days_aveListedPrice    0.931494\n",
            "Nightly Rate                     0.023944\n",
            "revenue                          0.015877\n",
            "booked_days                      0.008033\n",
            "Bedrooms                         0.002104\n",
            "Max Guests                       0.002024\n",
            "Bathrooms                        0.001722\n",
            "tract_unique_prices              0.001477\n",
            "num_5_star_Rev_pastYear          0.001233\n",
            "occupancy_rate                   0.001003\n",
            "tract_superhosts_ratio           0.000962\n",
            "Property Type_Apartment          0.000958\n",
            "numReserv_pastYear               0.000917\n",
            "Number of Reviews                0.000895\n",
            "numReviews_pastYear              0.000818\n",
            "tractQuartilePrice_variance      0.000697\n",
            "tract_black_perc                 0.000599\n",
            "Cleaning Fee (USD)               0.000586\n",
            "booked_days_period_city          0.000513\n",
            "numReservedDays_pastYear         0.000497\n",
            "dtype: float64\n"
          ]
        }
      ]
    }
  ]
}